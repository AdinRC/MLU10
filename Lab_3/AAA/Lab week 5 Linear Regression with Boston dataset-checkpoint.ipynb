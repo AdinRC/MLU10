{
 "cells": [
  {
   "cell_type": "markdown",
   "metadata": {},
   "source": [
    "# LINEAR REGRESSION EXERCISE"
   ]
  },
  {
   "cell_type": "markdown",
   "metadata": {},
   "source": [
    "Regression problem. \n",
    "This data was originally a part of UCI Machine Learning Repository and has been removed now. We can also access this data from the scikit-learn library. There are 506 samples and 13 feature variables in this dataset. \n",
    "The objective is to predict the value of prices of the house using the given features.\n",
    "\n",
    "* CRIM      per capita crime rate by town\n",
    "* ZN        proportion of residential land zoned for lots over 25,000 sq.ft.\n",
    "* INDUS     proportion of non-retail business acres per town\n",
    "* CHAS      Charles River dummy variable (= 1 if tract bounds river; 0 otherwise)\n",
    "* NOX       nitric oxides concentration (parts per 10 million)\n",
    "* RM        average number of rooms per dwelling\n",
    "* AGE       proportion of owner-occupied units built prior to 1940\n",
    "* DIS       weighted distances to five Boston employment centres\n",
    "* RAD       index of accessibility to radial highways\n",
    "* TAX      full-value property-tax rate per 10,000\n",
    "* PTRATIO  pupil-teacher ratio by town\n",
    "* BLACK        1000(Bk - 0.63)^2 where Bk is the proportion of blacks by town\n",
    "* LSTAT    % lower status of the population\n",
    "* MEDV     Median value of owner-occupied homes in $1000s"
   ]
  },
  {
   "cell_type": "markdown",
   "metadata": {},
   "source": [
    "### Task 1\n",
    "* Visualize the importance of features in dataset.Hints: used heatmap\n",
    "* Choose the top 5 features that has highest correlation/importance with medv feature. Hints: negative value and positive value can be choosen as top features. \n",
    "* Separate between features and target\n"
   ]
  },
  {
   "cell_type": "code",
   "execution_count": null,
   "metadata": {},
   "outputs": [],
   "source": [
    "# Importing common libraries \n",
    "import pandas as pd\n",
    "import numpy as np\n",
    "from sklearn import metrics\n",
    "import matplotlib.pyplot as plt\n",
    "import seaborn as sns\n",
    "%matplotlib inline\n",
    "\n",
    "import warnings \n",
    "warnings.simplefilter(action='ignore', category=FutureWarning)"
   ]
  },
  {
   "cell_type": "code",
   "execution_count": null,
   "metadata": {},
   "outputs": [],
   "source": [
    "data=pd.read_csv(\"data\\\\Boston.csv\")"
   ]
  },
  {
   "cell_type": "code",
   "execution_count": null,
   "metadata": {},
   "outputs": [],
   "source": [
    "data.isnull().sum()"
   ]
  },
  {
   "cell_type": "code",
   "execution_count": null,
   "metadata": {},
   "outputs": [],
   "source": [
    "sns.heatmap(data.corr(), annot = True)\n",
    "plt.show()"
   ]
  },
  {
   "cell_type": "markdown",
   "metadata": {},
   "source": [
    "### Task 2\n",
    "\n",
    "* Split the data into training and testing with 7:3 ratio\n",
    "* Use linear regression \n",
    "* Train and test the model"
   ]
  },
  {
   "cell_type": "markdown",
   "metadata": {},
   "source": [
    "### Task 3\n",
    "* Evaluate performance of predictor using metrics suitable for regression problem\n",
    "* Plot the predicted value vs actual value. It will be very helpful to store the actual and predicted result in an independent dataframe for future use.Use bar graph and scatter plot.Hints:refer to lab 4 exercise"
   ]
  },
  {
   "cell_type": "markdown",
   "metadata": {},
   "source": [
    "### POLYNOMIAL AND CUBIC REGRESSION"
   ]
  },
  {
   "cell_type": "markdown",
   "metadata": {},
   "source": [
    "#### Task 4\n",
    "* Import library required for PolynomialFeatures\n",
    "* Select one feature that shows highest correlation with MEDV\n",
    "* Set MEDV as the target\n",
    "* Create quadratic features. Tips: degree=2 to create quadratic feature while degree=3 creates cubic features\n",
    "* Plot the model prediction\n",
    "which model give the best result? provide justifications. "
   ]
  },
  {
   "cell_type": "code",
   "execution_count": null,
   "metadata": {},
   "outputs": [],
   "source": []
  }
 ],
 "metadata": {
  "kernelspec": {
   "display_name": "Python 3 (ipykernel)",
   "language": "python",
   "name": "python3"
  },
  "language_info": {
   "codemirror_mode": {
    "name": "ipython",
    "version": 3
   },
   "file_extension": ".py",
   "mimetype": "text/x-python",
   "name": "python",
   "nbconvert_exporter": "python",
   "pygments_lexer": "ipython3",
   "version": "3.11.5"
  }
 },
 "nbformat": 4,
 "nbformat_minor": 4
}

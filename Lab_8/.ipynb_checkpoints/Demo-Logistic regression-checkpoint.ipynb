{
 "cells": [
  {
   "cell_type": "markdown",
   "metadata": {},
   "source": [
    "# CLASSIFICATION WITH LOGISTIC REGRESSION"
   ]
  },
  {
   "cell_type": "markdown",
   "metadata": {},
   "source": [
    "DATASET: IRIS"
   ]
  },
  {
   "cell_type": "code",
   "execution_count": 1,
   "metadata": {},
   "outputs": [],
   "source": [
    "#IMPORT COMMON LIBRARIES\n",
    "import pandas as pd\n",
    "import matplotlib.pyplot as plt\n",
    "import numpy as np\n",
    "\n",
    "import warnings \n",
    "warnings.simplefilter(action='ignore', category=FutureWarning)"
   ]
  },
  {
   "cell_type": "markdown",
   "metadata": {},
   "source": [
    "### TASK 1\n",
    "\n",
    "* Read Iris_Data.csv from folder Data\n",
    "* Check any categorical data and encode to numerical using whichever suitable methods. *Hint* : One-Hot Encode is not suitable for Target. Better to utilize LabelEncoder or custom mapping the class\n",
    "* Do you think the data need to be scaled? Can check using the min and max of cells in dataframe"
   ]
  },
  {
   "cell_type": "code",
   "execution_count": 2,
   "metadata": {},
   "outputs": [],
   "source": [
    "# Initializing the dataframe\n",
    "data = pd.read_csv(\"iris.csv\")"
   ]
  },
  {
   "cell_type": "code",
   "execution_count": 3,
   "metadata": {},
   "outputs": [
    {
     "data": {
      "text/plain": [
       "virginica     50\n",
       "setosa        50\n",
       "versicolor    50\n",
       "Name: species, dtype: int64"
      ]
     },
     "execution_count": 3,
     "metadata": {},
     "output_type": "execute_result"
    }
   ],
   "source": [
    "data.species.value_counts()"
   ]
  },
  {
   "cell_type": "code",
   "execution_count": 4,
   "metadata": {},
   "outputs": [],
   "source": [
    "#user defined encoding by using replace\n",
    "data.replace({'species':{'setosa':1, 'versicolor':2, 'virginica':3}}, inplace=True)"
   ]
  },
  {
   "cell_type": "code",
   "execution_count": 5,
   "metadata": {},
   "outputs": [
    {
     "data": {
      "text/plain": [
       "0.1    1\n",
       "4.3    1\n",
       "1.0    1\n",
       "2.0    1\n",
       "dtype: int64"
      ]
     },
     "execution_count": 5,
     "metadata": {},
     "output_type": "execute_result"
    }
   ],
   "source": [
    "#check min and max\n",
    "data.iloc[:, :-1].min().value_counts()"
   ]
  },
  {
   "cell_type": "code",
   "execution_count": 6,
   "metadata": {},
   "outputs": [
    {
     "data": {
      "text/plain": [
       "6.9    1\n",
       "7.9    1\n",
       "4.4    1\n",
       "2.5    1\n",
       "dtype: int64"
      ]
     },
     "execution_count": 6,
     "metadata": {},
     "output_type": "execute_result"
    }
   ],
   "source": [
    "data.iloc[:, :-1].max().value_counts()"
   ]
  },
  {
   "cell_type": "code",
   "execution_count": 7,
   "metadata": {},
   "outputs": [],
   "source": [
    "# looks like yes, the data need rescaling"
   ]
  },
  {
   "cell_type": "markdown",
   "metadata": {},
   "source": [
    "### TASK 2\n",
    "\n",
    "* Split between predictor and target\n",
    "* Split using StratifiedShuffleSplit to ensure the ratio of every classes presented in the training and testing are fairly distributed\n",
    "* Scale the data if required. May utilize any suitable scaler\n"
   ]
  },
  {
   "cell_type": "code",
   "execution_count": 8,
   "metadata": {},
   "outputs": [],
   "source": [
    "#split between feature and target\n",
    "X=data.drop('species', axis=1)\n",
    "y=data.species\n",
    "\n",
    "# #alternative\n",
    "# #Prepare the training set\n",
    "# # X = feature values, all the columns except the last column\n",
    "# X = data.iloc[:, :-1]\n",
    "# # y = target values, last column of the data frame\n",
    "# y = data.iloc[:, -1]"
   ]
  },
  {
   "cell_type": "code",
   "execution_count": 9,
   "metadata": {},
   "outputs": [],
   "source": [
    "# Splitting to training and testing data\n",
    "from sklearn.model_selection import StratifiedShuffleSplit\n",
    "\n",
    "# Get the split indexes\n",
    "strat_shuf_split = StratifiedShuffleSplit(n_splits=1, \n",
    "                                          test_size=0.3, \n",
    "                                          random_state=42)\n",
    "\n",
    "train_idx, test_idx = next(strat_shuf_split.split(X, y))\n",
    "\n",
    "# Create the dataframes\n",
    "X_train = data.loc[train_idx, X.columns]\n",
    "y_train = data.loc[train_idx, 'species']\n",
    "\n",
    "X_test  = data.loc[test_idx, X.columns]\n",
    "y_test  = data.loc[test_idx, 'species']"
   ]
  },
  {
   "cell_type": "code",
   "execution_count": 10,
   "metadata": {},
   "outputs": [],
   "source": [
    "from sklearn.preprocessing import MinMaxScaler\n",
    "\n",
    "scaler=MinMaxScaler()\n",
    "X_train=scaler.fit_transform(X_train)\n",
    "X_test=scaler.transform(X_test)"
   ]
  },
  {
   "cell_type": "markdown",
   "metadata": {},
   "source": [
    "### TASK 3\n",
    "* Create Logistic Regression model\n",
    "* Train the model with training set\n",
    "* Test the model with testing set\n",
    "* Print evaluation metrics such as confusion matrix, classification report etc. *Tips*:For multiclassification case, labelbinarize is required to print the AUC"
   ]
  },
  {
   "cell_type": "code",
   "execution_count": 11,
   "metadata": {},
   "outputs": [],
   "source": [
    "# Import library for Logistic Regression\n",
    "from sklearn.linear_model import LogisticRegression\n",
    "\n",
    "# Create a Linear regressor\n",
    "lr = LogisticRegression()"
   ]
  },
  {
   "cell_type": "code",
   "execution_count": 12,
   "metadata": {},
   "outputs": [],
   "source": [
    "lr=lr.fit(X_train, y_train)"
   ]
  },
  {
   "cell_type": "code",
   "execution_count": 13,
   "metadata": {},
   "outputs": [],
   "source": [
    "#Test the model\n",
    "y_pred = lr.predict(X_test)"
   ]
  },
  {
   "cell_type": "code",
   "execution_count": 14,
   "metadata": {},
   "outputs": [],
   "source": [
    "from sklearn.metrics import confusion_matrix, accuracy_score, roc_auc_score, classification_report\n",
    "from sklearn.preprocessing import label_binarize\n",
    "\n",
    "import matplotlib.pyplot as plt\n",
    "import seaborn as sns"
   ]
  },
  {
   "cell_type": "code",
   "execution_count": 15,
   "metadata": {},
   "outputs": [],
   "source": [
    "#CREATE A FUNCTION TO UTILIZE EVALUATION METRICS ON DIFFERENT MODEL\n",
    "def performance_metrics(y_test, y_pred):\n",
    "    print( classification_report(y_test, y_pred) )\n",
    "    auc = roc_auc_score(label_binarize(y_test, classes=[1,2,3]),\n",
    "              label_binarize(y_pred, classes=[1,2,3]), \n",
    "              average='weighted')\n",
    "    print(\"AUC Score: %s\" %auc)\n",
    "    cm_lr=confusion_matrix(y_test, y_pred)\n",
    "    df_cm = pd.DataFrame(cm_lr, range(3), range(3))\n",
    "    # plt.figure(figsize=(10,7))\n",
    "    sns.set(font_scale=1.4) # for label size\n",
    "    sns.heatmap(df_cm, annot=True, annot_kws={\"size\": 15}, fmt='d') # font size\n",
    "    plt.show()"
   ]
  },
  {
   "cell_type": "code",
   "execution_count": 16,
   "metadata": {},
   "outputs": [
    {
     "name": "stdout",
     "output_type": "stream",
     "text": [
      "              precision    recall  f1-score   support\n",
      "\n",
      "           1       1.00      1.00      1.00        15\n",
      "           2       0.80      0.80      0.80        15\n",
      "           3       0.80      0.80      0.80        15\n",
      "\n",
      "    accuracy                           0.87        45\n",
      "   macro avg       0.87      0.87      0.87        45\n",
      "weighted avg       0.87      0.87      0.87        45\n",
      "\n",
      "AUC Score: 0.9\n"
     ]
    },
    {
     "data": {
      "image/png": "[encoded data removed]",
      "text/plain": [
       "<Figure size 432x288 with 2 Axes>"
      ]
     },
     "metadata": {},
     "output_type": "display_data"
    }
   ],
   "source": [
    "performance_metrics(y_test,y_pred)"
   ]
  },
  {
   "cell_type": "markdown",
   "metadata": {},
   "source": [
    "### TASK 4\n",
    "\n",
    "HYPERPARAMETER TUNING\n",
    "* Define parameters such as solvers, penalty and the c_values and store them as the grid parameters\n",
    "* Initialize a LogisticRegression model\n",
    "* Define a cross-validation method. Advised to utilize RepeatedStratifiedKFold from the demo\n",
    "* Perform GridSearchCV and fit with training set.\n",
    "* Print the best Parameters"
   ]
  },
  {
   "cell_type": "code",
   "execution_count": 17,
   "metadata": {},
   "outputs": [],
   "source": [
    "solvers = ['newton-cg', 'lbfgs', 'liblinear']\n",
    "penalty = ['l2']\n",
    "c_values = [100, 10, 1.0, 0.1, 0.01]"
   ]
  },
  {
   "cell_type": "code",
   "execution_count": 18,
   "metadata": {},
   "outputs": [],
   "source": [
    "model=LogisticRegression()"
   ]
  },
  {
   "cell_type": "code",
   "execution_count": 19,
   "metadata": {},
   "outputs": [],
   "source": [
    "from sklearn.model_selection import RepeatedStratifiedKFold\n",
    "from sklearn.model_selection import GridSearchCV\n",
    "# define grid search\n",
    "grid = dict(solver=solvers,penalty=penalty,C=c_values)\n",
    "cv = RepeatedStratifiedKFold(n_splits=10, n_repeats=3, random_state=1)\n",
    "grid_search = GridSearchCV(estimator=model, param_grid=grid, n_jobs=-1, cv=cv, scoring='accuracy',error_score=0)\n",
    "grid_result = grid_search.fit(X_train, y_train)"
   ]
  },
  {
   "cell_type": "code",
   "execution_count": 20,
   "metadata": {},
   "outputs": [
    {
     "name": "stdout",
     "output_type": "stream",
     "text": [
      "Best: 0.977879 using {'C': 100, 'penalty': 'l2', 'solver': 'liblinear'}\n",
      "0.971212 (0.044044) with: {'C': 100, 'penalty': 'l2', 'solver': 'newton-cg'}\n",
      "0.971212 (0.044044) with: {'C': 100, 'penalty': 'l2', 'solver': 'lbfgs'}\n",
      "0.977879 (0.040157) with: {'C': 100, 'penalty': 'l2', 'solver': 'liblinear'}\n",
      "0.977879 (0.040157) with: {'C': 10, 'penalty': 'l2', 'solver': 'newton-cg'}\n",
      "0.977879 (0.040157) with: {'C': 10, 'penalty': 'l2', 'solver': 'lbfgs'}\n",
      "0.946667 (0.079209) with: {'C': 10, 'penalty': 'l2', 'solver': 'liblinear'}\n",
      "0.952727 (0.076038) with: {'C': 1.0, 'penalty': 'l2', 'solver': 'newton-cg'}\n",
      "0.952727 (0.076038) with: {'C': 1.0, 'penalty': 'l2', 'solver': 'lbfgs'}\n",
      "0.867273 (0.100648) with: {'C': 1.0, 'penalty': 'l2', 'solver': 'liblinear'}\n",
      "0.873939 (0.105776) with: {'C': 0.1, 'penalty': 'l2', 'solver': 'newton-cg'}\n",
      "0.873939 (0.105776) with: {'C': 0.1, 'penalty': 'l2', 'solver': 'lbfgs'}\n",
      "0.677879 (0.045738) with: {'C': 0.1, 'penalty': 'l2', 'solver': 'liblinear'}\n",
      "0.744545 (0.118027) with: {'C': 0.01, 'penalty': 'l2', 'solver': 'newton-cg'}\n",
      "0.744545 (0.118027) with: {'C': 0.01, 'penalty': 'l2', 'solver': 'lbfgs'}\n",
      "0.654848 (0.044566) with: {'C': 0.01, 'penalty': 'l2', 'solver': 'liblinear'}\n"
     ]
    }
   ],
   "source": [
    "print(\"Best: %f using %s\" % (grid_result.best_score_, grid_result.best_params_))\n",
    "means = grid_result.cv_results_['mean_test_score']\n",
    "stds = grid_result.cv_results_['std_test_score']\n",
    "params = grid_result.cv_results_['params']\n",
    "for mean, stdev, param in zip(means, stds, params):\n",
    "    print(\"%f (%f) with: %r\" % (mean, stdev, param))"
   ]
  },
  {
   "cell_type": "code",
   "execution_count": null,
   "metadata": {},
   "outputs": [],
   "source": []
  },
  {
   "cell_type": "markdown",
   "metadata": {},
   "source": [
    "### TASK 6\n",
    "* Create a Logistic Regression model and assign parameters based on best parameters provided from the GridSearch\n",
    "* Print the performance of the model."
   ]
  },
  {
   "cell_type": "code",
   "execution_count": 21,
   "metadata": {},
   "outputs": [],
   "source": [
    "best_model=LogisticRegression(C=100, penalty='l2', solver='liblinear')"
   ]
  },
  {
   "cell_type": "code",
   "execution_count": 22,
   "metadata": {},
   "outputs": [],
   "source": [
    "best_model=best_model.fit(X_train, y_train)"
   ]
  },
  {
   "cell_type": "code",
   "execution_count": 23,
   "metadata": {},
   "outputs": [],
   "source": [
    "y_test_pred_best=best_model.predict(X_test)"
   ]
  },
  {
   "cell_type": "code",
   "execution_count": 24,
   "metadata": {},
   "outputs": [
    {
     "name": "stdout",
     "output_type": "stream",
     "text": [
      "              precision    recall  f1-score   support\n",
      "\n",
      "           1       1.00      1.00      1.00        15\n",
      "           2       0.80      0.80      0.80        15\n",
      "           3       0.80      0.80      0.80        15\n",
      "\n",
      "    accuracy                           0.87        45\n",
      "   macro avg       0.87      0.87      0.87        45\n",
      "weighted avg       0.87      0.87      0.87        45\n",
      "\n",
      "AUC Score: 0.9\n"
     ]
    },
    {
     "data": {
      "image/png": "[encoded data removed]",
      "text/plain": [
       "<Figure size 432x288 with 2 Axes>"
      ]
     },
     "metadata": {},
     "output_type": "display_data"
    }
   ],
   "source": [
    "performance_metrics(y_test,y_test_pred_best)"
   ]
  },
  {
   "cell_type": "code",
   "execution_count": null,
   "metadata": {},
   "outputs": [],
   "source": []
  }
 ],
 "metadata": {
  "kernelspec": {
   "display_name": "Python 3 (ipykernel)",
   "language": "python",
   "name": "python3"
  },
  "language_info": {
   "codemirror_mode": {
    "name": "ipython",
    "version": 3
   },
   "file_extension": ".py",
   "mimetype": "text/x-python",
   "name": "python",
   "nbconvert_exporter": "python",
   "pygments_lexer": "ipython3",
   "version": "3.12.4"
  }
 },
 "nbformat": 4,
 "nbformat_minor": 4
}

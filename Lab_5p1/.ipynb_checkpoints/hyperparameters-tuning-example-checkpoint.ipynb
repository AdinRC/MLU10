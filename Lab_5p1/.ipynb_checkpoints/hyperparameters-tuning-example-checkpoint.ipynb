{
 "cells": [
  {
   "cell_type": "code",
   "execution_count": 1,
   "id": "415836a6-1643-4216-a346-8a6cbeb572dd",
   "metadata": {},
   "outputs": [
    {
     "name": "stdout",
     "output_type": "stream",
     "text": [
      "Best hyperparameters: {'metric': 'euclidean', 'n_neighbors': 10, 'weights': 'distance'}\n",
      "Best cross-validated accuracy: 0.9866666666666667\n"
     ]
    }
   ],
   "source": [
    "from sklearn.datasets import load_iris\n",
    "from sklearn.model_selection import GridSearchCV\n",
    "from sklearn.neighbors import KNeighborsClassifier\n",
    "import numpy as np\n",
    "\n",
    "# Load dataset\n",
    "data = load_iris()\n",
    "X, y = data.data, data.target\n",
    "\n",
    "# Define the KNN model\n",
    "model = KNeighborsClassifier()\n",
    "\n",
    "# Set up the grid of hyperparameters to test\n",
    "param_grid = {\n",
    "    'n_neighbors': np.arange(1, 21),  # Test k values from 1 to 20\n",
    "    'weights': ['uniform', 'distance'],  # Test both uniform and distance-based weighting\n",
    "    'metric': ['euclidean', 'manhattan', 'minkowski']  # Test different distance metrics\n",
    "}\n",
    "\n",
    "# Set up GridSearchCV with cross-validation\n",
    "grid_search = GridSearchCV(estimator=model, param_grid=param_grid, cv=5, scoring='accuracy', n_jobs=-1)\n",
    "\n",
    "# Perform hyperparameter tuning\n",
    "grid_search.fit(X, y)\n",
    "\n",
    "# Output the best hyperparameters and the best accuracy\n",
    "print(\"Best hyperparameters:\", grid_search.best_params_)\n",
    "print(\"Best cross-validated accuracy:\", grid_search.best_score_)\n"
   ]
  },
  {
   "cell_type": "markdown",
   "id": "3f3e92e4-cb2d-43c2-b72c-56001476cc00",
   "metadata": {},
   "source": [
    "* Dataset: Uses the iris dataset.\n",
    "* Model: Sets up a KNN model (KNeighborsClassifier).\n",
    "* Parameter Grid: Defines a grid for testing different n_neighbors values, weights, and metric options.\n",
    "* This program tests:\n",
    "* n_neighbors: The number of neighbors to consider (1 to 20).\n",
    "* weights: Either uniform (all neighbors contribute equally) or distance (closer neighbors contribute more).\n",
    "* metric: Different distance metrics (euclidean, manhattan, minkowski) to measure distances.\n",
    "* Grid Search with Cross-Validation: GridSearchCV performs a grid search over the parameter grid with 5-fold cross-validation, scoring based on \n",
    "  accuracy.\n",
    "* Best Parameters: After fitting, grid_search.best_params_ gives the optimal hyperparameter values, and grid_search.best_score_ gives the best cross- \n",
    "  validated accuracy score."
   ]
  },
  {
   "cell_type": "code",
   "execution_count": null,
   "id": "03ff6437-746f-462d-8d6f-e5d197e8f794",
   "metadata": {},
   "outputs": [],
   "source": []
  }
 ],
 "metadata": {
  "kernelspec": {
   "display_name": "Python 3 (ipykernel)",
   "language": "python",
   "name": "python3"
  },
  "language_info": {
   "codemirror_mode": {
    "name": "ipython",
    "version": 3
   },
   "file_extension": ".py",
   "mimetype": "text/x-python",
   "name": "python",
   "nbconvert_exporter": "python",
   "pygments_lexer": "ipython3",
   "version": "3.12.4"
  }
 },
 "nbformat": 4,
 "nbformat_minor": 5
}

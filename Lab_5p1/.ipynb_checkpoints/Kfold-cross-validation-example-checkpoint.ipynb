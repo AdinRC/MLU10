{
 "cells": [
  {
   "cell_type": "markdown",
   "id": "bfb6ba9c-96c1-4882-b282-078419cbcf8a",
   "metadata": {},
   "source": [
    "\n",
    "* Dataset:iris dataset, which is loaded via load_iris().\n",
    "* Model: The KNN classifier is set up with a specified number of neighbors (n_neighbors=5).\n"
   ]
  },
  {
   "cell_type": "code",
   "execution_count": null,
   "id": "3ea4bb7a-e276-4d1a-8fd8-bedbc028801a",
   "metadata": {},
   "outputs": [],
   "source": [
    "from sklearn.datasets import load_iris\n",
    "from sklearn.model_selection import KFold, cross_val_score\n",
    "from sklearn.neighbors import KNeighborsClassifier\n",
    "import numpy as np\n",
    "\n",
    "# Load dataset\n",
    "data = load_iris()\n",
    "X, y = data.data, data.target"
   ]
  },
  {
   "cell_type": "code",
   "execution_count": 7,
   "id": "d930cbe7-56c8-4785-9ed4-6f45cbbbde18",
   "metadata": {},
   "outputs": [],
   "source": [
    "# Set up the KNN model with k neighbors\n",
    "k_neighbors = 5\n",
    "model = KNeighborsClassifier(n_neighbors=k_neighbors)"
   ]
  },
  {
   "cell_type": "code",
   "execution_count": 9,
   "id": "137a9f28-bd56-403e-9b51-fe86b27fec83",
   "metadata": {},
   "outputs": [],
   "source": [
    "# Set up K-Fold cross-validation\n",
    "kf = KFold(n_splits=5, shuffle=True, random_state=42)  # 5-fold cross-validation"
   ]
  },
  {
   "cell_type": "code",
   "execution_count": 11,
   "id": "adb621a1-e4c3-42a1-ac87-40d874b56c6b",
   "metadata": {},
   "outputs": [
    {
     "name": "stdout",
     "output_type": "stream",
     "text": [
      "Cross-validation scores: [1.         1.         0.96666667 0.93333333 0.96666667]\n",
      "Mean accuracy: 0.9733333333333334\n",
      "Standard deviation of accuracy: 0.024944382578492935\n"
     ]
    }
   ],
   "source": [
    "# Perform cross-validation\n",
    "scores = cross_val_score(model, X, y, cv=kf)\n",
    "\n",
    "# Output results\n",
    "print(\"Cross-validation scores:\", scores)\n",
    "print(\"Mean accuracy:\", np.mean(scores))\n",
    "print(\"Standard deviation of accuracy:\", np.std(scores))"
   ]
  },
  {
   "cell_type": "markdown",
   "id": "bda679b6-b5e7-4ea3-b0a0-de044a43c42b",
   "metadata": {},
   "source": [
    "* Cross-validation: use 5-fold cross-validation with KFold. It splits the data into 5 folds, shuffling it each time.\n",
    "* Training and Evaluation: cross_val_score runs KNN on each fold and returns accuracy scores for each fold.\n",
    "* The output will show the accuracy for each fold, along with the mean accuracy and standard deviation, giving an overall picture of KNN's performance \n",
    "  with cross-validation.\n",
    "* The low standard deviation (0.025) indicates that the model performs consistently across the cross-validation folds, showing that it is likely generalizing well without overfitting."
   ]
  },
  {
   "cell_type": "raw",
   "id": "89647b59-97f0-431d-a5b5-05eb7b5a80bf",
   "metadata": {},
   "source": []
  },
  {
   "cell_type": "code",
   "execution_count": null,
   "id": "fc99afd6-35d0-4bf8-ad2b-6e0d3386a4d8",
   "metadata": {},
   "outputs": [],
   "source": []
  }
 ],
 "metadata": {
  "kernelspec": {
   "display_name": "Python 3 (ipykernel)",
   "language": "python",
   "name": "python3"
  },
  "language_info": {
   "codemirror_mode": {
    "name": "ipython",
    "version": 3
   },
   "file_extension": ".py",
   "mimetype": "text/x-python",
   "name": "python",
   "nbconvert_exporter": "python",
   "pygments_lexer": "ipython3",
   "version": "3.12.4"
  }
 },
 "nbformat": 4,
 "nbformat_minor": 5
}

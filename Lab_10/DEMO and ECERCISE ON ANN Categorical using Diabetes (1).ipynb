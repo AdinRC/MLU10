{
 "cells": [
  {
   "cell_type": "markdown",
   "metadata": {},
   "source": [
    "# Artificial Neural Network - Classification"
   ]
  },
  {
   "cell_type": "markdown",
   "metadata": {},
   "source": [
    "## Introduction\n",
    "\n",
    "We will be using the [Pima Indians Diabetis] (http://networkrepository.com/pima-indians-diabetes.php) dataset, which was built from National Institute of Diabetes and Digestive and Kidney Diseases; Includes cost data (donated by Peter Turney)\n",
    "\n",
    "Alternatively the same data set can be found at https://www.kaggle.com/kumargh/pimaindiansdiabetescsv\n",
    "The train file can be renamed as pima-indians-diabetes.csv \n",
    "\n",
    "For each record in the dataset it is provided: \n",
    "\n",
    "- preg = Number of times pregnant\n",
    "- plas = Plasma glucose concentration a 2 hours in an oral glucose tolerance test\n",
    "- pres = Diastolic blood pressure (mm Hg)\n",
    "- skin = Triceps skin fold thickness (mm)\n",
    "- test = 2-Hour serum insulin (mu U/ml)\n",
    "- mass = Body mass index (weight in kg/(height in m)^2)\n",
    "- pedi = Diabetes pedigree function\n",
    "- age = Age (years)\n",
    "- class = Class variable (1:tested positive for diabetes, 0: tested negative for diabetes) \n",
    "\n",
    "More information about the features is available on the website above."
   ]
  },
  {
   "cell_type": "code",
   "execution_count": 11,
   "metadata": {},
   "outputs": [],
   "source": [
    "#Load libraries and seed random number generator\n",
    "from keras.models import Sequential\n",
    "from keras.layers import Dense\n",
    "from sklearn.model_selection import train_test_split\n",
    "from keras.optimizers import SGD\n",
    "from keras.optimizers import Adam\n",
    "import pandas as pd\n",
    "\n",
    "\n",
    "import numpy\n",
    "# fix random seed for reproducibility\n",
    "#A random seed is used to ensure that results are reproducible. \n",
    "#In other words, using this parameter makes sure that anyone who re-runs your code will get the exact same outputs. \n",
    "#Reproducibility is an extremely important concept in data science and other fields.\n",
    "numpy.random.seed(7)\n",
    "from sklearn.preprocessing import MinMaxScaler, StandardScaler"
   ]
  },
  {
   "cell_type": "markdown",
   "metadata": {},
   "source": [
    "## Activity 1: Read from file\n",
    "\n",
    "Import the data and do the following:\n",
    "* Show the top 5 of the dataset\n",
    "* Show the datatype"
   ]
  },
  {
   "cell_type": "code",
   "execution_count": 1,
   "metadata": {},
   "outputs": [],
   "source": [
    "import pandas as pd\n",
    "\n",
    "# Define column names\n",
    "col_names = ['Pregnancies', 'Glucose', 'BloodPressure', 'SkinThickness', 'Insulin', 'BMI', 'DiabetesPedigreeFunction', 'Age', 'Outcome']\n",
    "\n",
    "# Load dataset with custom column names\n",
    "pima = pd.read_csv(\"data\\pima-indians-diabetes.csv\", names=col_names)\n",
    "\n",
    "\n",
    "\n"
   ]
  },
  {
   "cell_type": "code",
   "execution_count": 24,
   "metadata": {},
   "outputs": [
    {
     "data": {
      "text/html": [
       "<div>\n",
       "<style scoped>\n",
       "    .dataframe tbody tr th:only-of-type {\n",
       "        vertical-align: middle;\n",
       "    }\n",
       "\n",
       "    .dataframe tbody tr th {\n",
       "        vertical-align: top;\n",
       "    }\n",
       "\n",
       "    .dataframe thead th {\n",
       "        text-align: right;\n",
       "    }\n",
       "</style>\n",
       "<table border=\"1\" class=\"dataframe\">\n",
       "  <thead>\n",
       "    <tr style=\"text-align: right;\">\n",
       "      <th></th>\n",
       "      <th>Pregnancies</th>\n",
       "      <th>Glucose</th>\n",
       "      <th>BloodPressure</th>\n",
       "      <th>SkinThickness</th>\n",
       "      <th>Insulin</th>\n",
       "      <th>BMI</th>\n",
       "      <th>DiabetesPedigreeFunction</th>\n",
       "      <th>Age</th>\n",
       "      <th>Outcome</th>\n",
       "    </tr>\n",
       "  </thead>\n",
       "  <tbody>\n",
       "    <tr>\n",
       "      <th>0</th>\n",
       "      <td>6</td>\n",
       "      <td>148</td>\n",
       "      <td>72</td>\n",
       "      <td>35</td>\n",
       "      <td>0</td>\n",
       "      <td>33.6</td>\n",
       "      <td>0.627</td>\n",
       "      <td>50</td>\n",
       "      <td>1</td>\n",
       "    </tr>\n",
       "    <tr>\n",
       "      <th>1</th>\n",
       "      <td>1</td>\n",
       "      <td>85</td>\n",
       "      <td>66</td>\n",
       "      <td>29</td>\n",
       "      <td>0</td>\n",
       "      <td>26.6</td>\n",
       "      <td>0.351</td>\n",
       "      <td>31</td>\n",
       "      <td>0</td>\n",
       "    </tr>\n",
       "    <tr>\n",
       "      <th>2</th>\n",
       "      <td>8</td>\n",
       "      <td>183</td>\n",
       "      <td>64</td>\n",
       "      <td>0</td>\n",
       "      <td>0</td>\n",
       "      <td>23.3</td>\n",
       "      <td>0.672</td>\n",
       "      <td>32</td>\n",
       "      <td>1</td>\n",
       "    </tr>\n",
       "    <tr>\n",
       "      <th>3</th>\n",
       "      <td>1</td>\n",
       "      <td>89</td>\n",
       "      <td>66</td>\n",
       "      <td>23</td>\n",
       "      <td>94</td>\n",
       "      <td>28.1</td>\n",
       "      <td>0.167</td>\n",
       "      <td>21</td>\n",
       "      <td>0</td>\n",
       "    </tr>\n",
       "    <tr>\n",
       "      <th>4</th>\n",
       "      <td>0</td>\n",
       "      <td>137</td>\n",
       "      <td>40</td>\n",
       "      <td>35</td>\n",
       "      <td>168</td>\n",
       "      <td>43.1</td>\n",
       "      <td>2.288</td>\n",
       "      <td>33</td>\n",
       "      <td>1</td>\n",
       "    </tr>\n",
       "  </tbody>\n",
       "</table>\n",
       "</div>"
      ],
      "text/plain": [
       "   Pregnancies  Glucose  BloodPressure  SkinThickness  Insulin   BMI  \\\n",
       "0            6      148             72             35        0  33.6   \n",
       "1            1       85             66             29        0  26.6   \n",
       "2            8      183             64              0        0  23.3   \n",
       "3            1       89             66             23       94  28.1   \n",
       "4            0      137             40             35      168  43.1   \n",
       "\n",
       "   DiabetesPedigreeFunction  Age  Outcome  \n",
       "0                     0.627   50        1  \n",
       "1                     0.351   31        0  \n",
       "2                     0.672   32        1  \n",
       "3                     0.167   21        0  \n",
       "4                     2.288   33        1  "
      ]
     },
     "execution_count": 24,
     "metadata": {},
     "output_type": "execute_result"
    }
   ],
   "source": [
    "pima.head()"
   ]
  },
  {
   "cell_type": "code",
   "execution_count": 25,
   "metadata": {},
   "outputs": [
    {
     "data": {
      "text/plain": [
       "Pregnancies                   int64\n",
       "Glucose                       int64\n",
       "BloodPressure                 int64\n",
       "SkinThickness                 int64\n",
       "Insulin                       int64\n",
       "BMI                         float64\n",
       "DiabetesPedigreeFunction    float64\n",
       "Age                           int64\n",
       "Outcome                       int64\n",
       "dtype: object"
      ]
     },
     "execution_count": 25,
     "metadata": {},
     "output_type": "execute_result"
    }
   ],
   "source": [
    "pima.dtypes"
   ]
  },
  {
   "cell_type": "markdown",
   "metadata": {},
   "source": [
    "## Activity 2: Split into training and testing dataset\n",
    "\n",
    "Split the data into train and test data sets. Assign X for the training dataset and y for testing dataset.\n",
    "* Use all features and class for X. Use MinMaxScaler or StandardScaler for rescaling\n",
    "* Exclude class column for y"
   ]
  },
  {
   "cell_type": "code",
   "execution_count": 26,
   "metadata": {},
   "outputs": [],
   "source": [
    "# Splitting the dataset into input (X) and output (y) variables\n",
    "\n",
    "\n",
    "X = dataset.iloc[:, 0:8]  # Features\n",
    "y = dataset.iloc[:, 8]    # Target variable (class label)\n",
    "\n",
    "# Scaling the features using StandardScaler\n",
    "X = StandardScaler().fit_transform(X)\n",
    "\n",
    "# Splitting the dataset into training and testing sets\n",
    "test_size = 0.30  # Percentage of data to be used for testing\n",
    "X_train, X_test, y_train, y_test = train_test_split(X, y, test_size=test_size, random_state=7)\n"
   ]
  },
  {
   "cell_type": "code",
   "execution_count": 6,
   "metadata": {},
   "outputs": [
    {
     "data": {
      "text/plain": [
       "array([[ 0.63994726,  0.84832379,  0.14964075, ...,  0.20401277,\n",
       "         0.46849198,  1.4259954 ],\n",
       "       [-0.84488505, -1.12339636, -0.16054575, ..., -0.68442195,\n",
       "        -0.36506078, -0.19067191],\n",
       "       [ 1.23388019,  1.94372388, -0.26394125, ..., -1.10325546,\n",
       "         0.60439732, -0.10558415],\n",
       "       ...,\n",
       "       [ 0.3429808 ,  0.00330087,  0.14964075, ..., -0.73518964,\n",
       "        -0.68519336, -0.27575966],\n",
       "       [-0.84488505,  0.1597866 , -0.47073225, ..., -0.24020459,\n",
       "        -0.37110101,  1.17073215],\n",
       "       [-0.84488505, -0.8730192 ,  0.04624525, ..., -0.20212881,\n",
       "        -0.47378505, -0.87137393]])"
      ]
     },
     "execution_count": 6,
     "metadata": {},
     "output_type": "execute_result"
    }
   ],
   "source": [
    "X"
   ]
  },
  {
   "cell_type": "code",
   "execution_count": 27,
   "metadata": {},
   "outputs": [
    {
     "data": {
      "text/plain": [
       "array([[-0.54687397, -1.65404056, -0.3669079 , ..., -1.50818915,\n",
       "        -0.64801161, -0.87010264],\n",
       "       [-0.54687397,  2.38255602,  0.04641078, ...,  0.34367529,\n",
       "         0.31189802,  2.45056338],\n",
       "       [ 0.04683068,  0.12957188,  0.04641078, ..., -0.39199688,\n",
       "         2.02947217,  1.00309358],\n",
       "       ...,\n",
       "       [-1.14057861,  0.19215477,  0.56305914, ...,  0.54661934,\n",
       "         1.0031537 , -0.87010264],\n",
       "       [-0.25002164, -0.43367415, -0.3669079 , ..., -1.15303706,\n",
       "         0.62281214, -0.87010264],\n",
       "       [ 0.64053533, -1.12208597,  0.45972947, ..., -0.10026481,\n",
       "        -0.27068864,  0.74765773]])"
      ]
     },
     "execution_count": 27,
     "metadata": {},
     "output_type": "execute_result"
    }
   ],
   "source": [
    "X_train"
   ]
  },
  {
   "cell_type": "code",
   "execution_count": 28,
   "metadata": {},
   "outputs": [
    {
     "data": {
      "text/plain": [
       "0      0\n",
       "1      1\n",
       "2      0\n",
       "3      1\n",
       "4      0\n",
       "      ..\n",
       "762    0\n",
       "763    0\n",
       "764    0\n",
       "765    1\n",
       "766    0\n",
       "Name: 1, Length: 767, dtype: int64"
      ]
     },
     "execution_count": 28,
     "metadata": {},
     "output_type": "execute_result"
    }
   ],
   "source": [
    "y"
   ]
  },
  {
   "cell_type": "code",
   "execution_count": 29,
   "metadata": {},
   "outputs": [
    {
     "data": {
      "text/plain": [
       "616    0\n",
       "578    1\n",
       "492    1\n",
       "205    1\n",
       "708    1\n",
       "      ..\n",
       "579    1\n",
       "502    0\n",
       "537    0\n",
       "196    1\n",
       "175    0\n",
       "Name: 1, Length: 536, dtype: int64"
      ]
     },
     "execution_count": 29,
     "metadata": {},
     "output_type": "execute_result"
    }
   ],
   "source": [
    "y_train"
   ]
  },
  {
   "cell_type": "markdown",
   "metadata": {},
   "source": [
    "## Activity 3: Define NN Model\n",
    "\n",
    "Define the neural network model. \n",
    "* Input layer - 12 neurons, use relu activation function\n",
    "* Output layer - 1 output, use sigmoid activation function since we are looking for only 2 possible values, 1:tested positive for diabetes, 0: tested negative for diabetes\n",
    "Sequential() creates an empty sequential model where you can add layers sequentially.\n",
    "Dense() adds a fully connected layer to the model. The first argument specifies the number of units (neurons) in the layer. input_dim=8 in the first layer specifies the input dimension, which is the number of features in your dataset.\n",
    "'relu' stands for Rectified Linear Unit activation function, which introduces non-linearity to the model.\n",
    "'sigmoid' activation in the output layer is common for binary classification problems. It squashes the output between 0 and 1, representing the probability of the sample belonging to the positive class."
   ]
  },
  {
   "cell_type": "code",
   "execution_count": 35,
   "metadata": {},
   "outputs": [],
   "source": [
    "model = Sequential()\n",
    "#model.add(Dense(12, input_dim=8, activation='relu'))\n",
    "model.add(Dense(12, input_dim=8, activation='relu'))\n",
    "model.add(Dense(8, activation='relu'))\n",
    "model.add(Dense(1, activation='sigmoid'))"
   ]
  },
  {
   "cell_type": "markdown",
   "metadata": {},
   "source": [
    "## Activity 4: Compile NN model\n",
    "\n",
    "Compile the neural network model.\n",
    "Fit the neural network to the dataset.\n",
    "Evaluate the neural network model on the test set. "
   ]
  },
  {
   "cell_type": "markdown",
   "metadata": {},
   "source": [
    "## Activity 4.1: Using SGD optimizer"
   ]
  },
  {
   "cell_type": "code",
   "execution_count": 36,
   "metadata": {},
   "outputs": [],
   "source": [
    "model.compile(loss='binary_crossentropy', optimizer=SGD(lr=0.01), metrics=['accuracy'])"
   ]
  },
  {
   "cell_type": "code",
   "execution_count": 42,
   "metadata": {},
   "outputs": [
    {
     "name": "stdout",
     "output_type": "stream",
     "text": [
      "Epoch 1/5\n",
      "54/54 [==============================] - 0s 1ms/step - loss: 0.5092 - accuracy: 0.7649 - val_loss: 0.4985 - val_accuracy: 0.7359\n",
      "Epoch 2/5\n",
      "54/54 [==============================] - 0s 788us/step - loss: 0.5018 - accuracy: 0.7593 - val_loss: 0.4929 - val_accuracy: 0.7403\n",
      "Epoch 3/5\n",
      "54/54 [==============================] - 0s 825us/step - loss: 0.4955 - accuracy: 0.7649 - val_loss: 0.4888 - val_accuracy: 0.7446\n",
      "Epoch 4/5\n",
      "54/54 [==============================] - 0s 825us/step - loss: 0.4902 - accuracy: 0.7705 - val_loss: 0.4857 - val_accuracy: 0.7489\n",
      "Epoch 5/5\n",
      "54/54 [==============================] - 0s 762us/step - loss: 0.4857 - accuracy: 0.7705 - val_loss: 0.4830 - val_accuracy: 0.7489\n"
     ]
    }
   ],
   "source": [
    "#history = model.fit(X_train, y_train , epochs=100, batch_size=10)\n",
    "#epochs: The number of epochs (iterations over the entire training dataset) to train the model.\n",
    "#batch_size: The number of samples per gradient update. This parameter specifies the number of samples to be used in each training step.\n",
    "history = model.fit(X_train, y_train , validation_data=(X_test,y_test), epochs=5, batch_size=10)\n",
    "#This will train your model on the provided training data (X_train and y_train) for 5 epochs, with a batch size of 10 samples per update. During training, the model's performance will be evaluated on the validation data (X_test, y_test). \n",
    "#The training history containing metrics such as loss and accuracy for both training and validation sets will be stored in the history object."
   ]
  },
  {
   "cell_type": "markdown",
   "metadata": {},
   "source": [
    "There are 768 records /samples. 30% for testing and 70% for trainning. This means, we have 230.4 for testing and remainder 537.6 for trainning. batch size for trainning is 10, that makes 54 bacthes. \n",
    "In every epoch (iteration of the trainning data, all 54 batches in the dataset have been processed.(10*53.76)"
   ]
  },
  {
   "cell_type": "markdown",
   "metadata": {},
   "source": [
    "1. loss: Training loss, a measure of how well the model is performing on the training data.\n",
    "2. accuracy: Training accuracy, the proportion of correct predictions on the training data.\n",
    "3. val_loss: Validation loss, a measure of how well the model is performing on the validation data.\n",
    "4. val_accuracy: Validation accuracy, the proportion of correct predictions on the validation data.\n",
    "\n",
    "# Based on the provided information, it seems that both training and validation accuracies are increasing, which is a good sign. \n",
    "# However, you should monitor the loss and accuracy trends over more epochs to assess the model's performance adequately and prevent overfitting"
   ]
  },
  {
   "cell_type": "code",
   "execution_count": 41,
   "metadata": {},
   "outputs": [
    {
     "name": "stdout",
     "output_type": "stream",
     "text": [
      "8/8 [==============================] - 0s 499us/step - loss: 0.5053 - accuracy: 0.7316\n",
      "accuracy: 73.16\n"
     ]
    }
   ],
   "source": [
    "scores = model.evaluate(X_test, y_test)\n",
    "print(\"{}: {:.2f}\".format(model.metrics_names[1], scores[1]*100))"
   ]
  },
  {
   "cell_type": "markdown",
   "metadata": {},
   "source": [
    "### Activity 4.1.1: Observe the model accuracy on each epoch\n",
    "\n",
    "Display the model accuracy"
   ]
  },
  {
   "cell_type": "code",
   "execution_count": 30,
   "metadata": {},
   "outputs": [
    {
     "data": {
      "image/png": "[encoded data removed]",
      "text/plain": [
       "<Figure size 432x288 with 1 Axes>"
      ]
     },
     "metadata": {
      "needs_background": "light"
     },
     "output_type": "display_data"
    }
   ],
   "source": [
    "%matplotlib inline\n",
    "import matplotlib.pyplot as plt\n",
    "\n",
    "plt.plot(history.history['accuracy'], label='train')\n",
    "plt.plot(history.history['val_accuracy'], label='test')\n",
    "plt.title('Model accuracy')\n",
    "plt.xlabel('Epoch')\n",
    "plt.ylabel('Accuracy')\n",
    "plt.legend(loc='best')\n",
    "plt.show()\n"
   ]
  },
  {
   "cell_type": "markdown",
   "metadata": {},
   "source": [
    "increasing the number of epochs can lead to improved accuracy initially, it's essential to monitor the model's performance on a validation dataset and use techniques like early stopping to prevent overfitting. \n",
    "Simply increasing the number of epochs indefinitely is not a guaranteed way to improve accuracy and can lead to overfitting."
   ]
  },
  {
   "cell_type": "markdown",
   "metadata": {},
   "source": [
    "### Activity 4.1.2: Observe the model loss on each epoch\n",
    "\n",
    "Display the model loss"
   ]
  },
  {
   "cell_type": "markdown",
   "metadata": {},
   "source": [
    "the relationship between epochs and loss illustrates the learning process of the model over time. The goal is to decrease the loss function by adjusting the model's parameters through training epochs, while also monitoring validation loss to prevent overfitting."
   ]
  },
  {
   "cell_type": "code",
   "execution_count": 31,
   "metadata": {},
   "outputs": [
    {
     "data": {
      "image/png": "[encoded data removed]",
      "text/plain": [
       "<Figure size 432x288 with 1 Axes>"
      ]
     },
     "metadata": {
      "needs_background": "light"
     },
     "output_type": "display_data"
    }
   ],
   "source": [
    "%matplotlib inline\n",
    "import matplotlib.pyplot as plt\n",
    "plt.plot(history.history['loss'], label='train')\n",
    "plt.plot(history.history['val_loss'], label='test')\n",
    "plt.title('Model Loss')\n",
    "plt.xlabel('Epoch')\n",
    "plt.ylabel('Loss')\n",
    "plt.legend(loc='best')\n",
    "plt.show()\n"
   ]
  },
  {
   "cell_type": "markdown",
   "metadata": {},
   "source": [
    "## Activity 4.2: Using Adam optimizer"
   ]
  },
  {
   "cell_type": "code",
   "execution_count": 32,
   "metadata": {},
   "outputs": [],
   "source": [
    "model2 = Sequential()\n",
    "model2.add(Dense(12, input_dim=8, activation='relu'))\n",
    "model2.add(Dense(8, activation='relu'))\n",
    "model2.add(Dense(1, activation='sigmoid'))"
   ]
  },
  {
   "cell_type": "code",
   "execution_count": 33,
   "metadata": {},
   "outputs": [
    {
     "name": "stdout",
     "output_type": "stream",
     "text": [
      "Epoch 1/5\n",
      "54/54 [==============================] - 0s 3ms/step - loss: 0.7633 - accuracy: 0.4011 - val_loss: 0.6852 - val_accuracy: 0.5541\n",
      "Epoch 2/5\n",
      "54/54 [==============================] - 0s 1ms/step - loss: 0.6708 - accuracy: 0.6138 - val_loss: 0.6163 - val_accuracy: 0.7403\n",
      "Epoch 3/5\n",
      "54/54 [==============================] - 0s 981us/step - loss: 0.6198 - accuracy: 0.7015 - val_loss: 0.5726 - val_accuracy: 0.7403\n",
      "Epoch 4/5\n",
      "54/54 [==============================] - 0s 952us/step - loss: 0.5800 - accuracy: 0.7276 - val_loss: 0.5354 - val_accuracy: 0.7403\n",
      "Epoch 5/5\n",
      "54/54 [==============================] - 0s 1ms/step - loss: 0.5489 - accuracy: 0.7388 - val_loss: 0.5118 - val_accuracy: 0.7489\n"
     ]
    }
   ],
   "source": [
    "model2.compile(loss='binary_crossentropy', optimizer=Adam(lr=0.001), metrics=['accuracy'])\n",
    "history = model2.fit(X_train, y_train , validation_data=(X_test,y_test), epochs=5, batch_size=10)"
   ]
  },
  {
   "cell_type": "code",
   "execution_count": 34,
   "metadata": {},
   "outputs": [
    {
     "name": "stdout",
     "output_type": "stream",
     "text": [
      "8/8 [==============================] - 0s 997us/step - loss: 0.5118 - accuracy: 0.7489\n",
      "accuracy: 74.89\n"
     ]
    }
   ],
   "source": [
    "scores = model2.evaluate(X_test, y_test)\n",
    "print(\"{}: {:.2f}\".format(model2.metrics_names[1], scores[1]*100))"
   ]
  },
  {
   "cell_type": "markdown",
   "metadata": {},
   "source": [
    "### Activity 4.2.1: Observe the model accuracy on each epoch\n",
    "\n",
    "Display the model accuracy"
   ]
  },
  {
   "cell_type": "code",
   "execution_count": 37,
   "metadata": {},
   "outputs": [
    {
     "data": {
      "image/png": "[encoded data removed]",
      "text/plain": [
       "<Figure size 432x288 with 1 Axes>"
      ]
     },
     "metadata": {
      "needs_background": "light"
     },
     "output_type": "display_data"
    }
   ],
   "source": [
    "%matplotlib inline\n",
    "import matplotlib.pyplot as plt\n",
    "plt.plot(history.history['accuracy'], label='train')\n",
    "plt.plot(history.history['val_accuracy'], label='test')\n",
    "plt.title('Model accuracy')\n",
    "plt.xlabel('Epoch')\n",
    "plt.ylabel('Accuracy')\n",
    "plt.legend(loc='best')\n",
    "plt.show()\n"
   ]
  },
  {
   "cell_type": "markdown",
   "metadata": {},
   "source": [
    "### Activity 4.2.2: Observe the model loss on each epoch\n",
    "\n",
    "Display the model loss"
   ]
  },
  {
   "cell_type": "code",
   "execution_count": 38,
   "metadata": {},
   "outputs": [
    {
     "data": {
      "image/png": "[encoded data removed]",
      "text/plain": [
       "<Figure size 432x288 with 1 Axes>"
      ]
     },
     "metadata": {
      "needs_background": "light"
     },
     "output_type": "display_data"
    }
   ],
   "source": [
    "%matplotlib inline\n",
    "import matplotlib.pyplot as plt\n",
    "plt.plot(history.history['loss'], label='train')\n",
    "plt.plot(history.history['val_loss'], label='test')\n",
    "plt.title('Model Loss')\n",
    "plt.xlabel('Epoch')\n",
    "plt.ylabel('Loss')\n",
    "plt.legend(loc='best')\n",
    "plt.show()\n"
   ]
  },
  {
   "cell_type": "markdown",
   "metadata": {},
   "source": [
    "## Activity 5: To do. Epoch = 50\n",
    "\n",
    "* Increase epoch value to 50\n",
    "* Uses SGD optimizer\n",
    "* Evaluate the model\n",
    "* Plot the model accuracy\n",
    "* Plot the model loss"
   ]
  },
  {
   "cell_type": "code",
   "execution_count": null,
   "metadata": {},
   "outputs": [],
   "source": []
  },
  {
   "cell_type": "markdown",
   "metadata": {},
   "source": [
    "## Activity 6: To do. Epoch = 100\n",
    "\n",
    "* Increase epoch value to 100\n",
    "* Uses SGD optimizer\n",
    "* Evaluate the model\n",
    "* Plot the model accuracy\n",
    "* Plot the model loss"
   ]
  },
  {
   "cell_type": "code",
   "execution_count": null,
   "metadata": {},
   "outputs": [],
   "source": []
  },
  {
   "cell_type": "markdown",
   "metadata": {},
   "source": [
    "## Activity 7: To do. Epoch = 50\n",
    "\n",
    "* Increase epoch value to 50\n",
    "* Uses Adam optimizer\n",
    "* Evaluate the model\n",
    "* Plot the model accuracy\n",
    "* Plot the model loss"
   ]
  },
  {
   "cell_type": "code",
   "execution_count": null,
   "metadata": {},
   "outputs": [],
   "source": []
  },
  {
   "cell_type": "markdown",
   "metadata": {},
   "source": [
    "## Activity 8: To do. Epoch = 100\n",
    "\n",
    "* Increase epoch value to 100\n",
    "* Uses Adam optimizer\n",
    "* Evaluate the model\n",
    "* Plot the model accuracy\n",
    "* Plot the model loss"
   ]
  },
  {
   "cell_type": "code",
   "execution_count": null,
   "metadata": {},
   "outputs": [],
   "source": []
  }
 ],
 "metadata": {
  "kernelspec": {
   "display_name": "Python 3 (ipykernel)",
   "language": "python",
   "name": "python3"
  },
  "language_info": {
   "codemirror_mode": {
    "name": "ipython",
    "version": 3
   },
   "file_extension": ".py",
   "mimetype": "text/x-python",
   "name": "python",
   "nbconvert_exporter": "python",
   "pygments_lexer": "ipython3",
   "version": "3.12.4"
  }
 },
 "nbformat": 4,
 "nbformat_minor": 4
}
